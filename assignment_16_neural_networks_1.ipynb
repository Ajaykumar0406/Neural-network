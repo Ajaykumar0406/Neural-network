{
  "nbformat": 4,
  "nbformat_minor": 0,
  "metadata": {
    "colab": {
      "provenance": []
    },
    "kernelspec": {
      "name": "python3",
      "display_name": "Python 3"
    },
    "language_info": {
      "name": "python"
    }
  },
  "cells": [
    {
      "cell_type": "code",
      "source": [
        "#PREDICT THE BURNED AREA OF FOREST FIRES WITH NEURAL NETWORKS"
      ],
      "metadata": {
        "id": "4hrC_9rM9uFN"
      },
      "execution_count": null,
      "outputs": []
    },
    {
      "cell_type": "code",
      "execution_count": null,
      "metadata": {
        "id": "SrqTHcwV8WaO"
      },
      "outputs": [],
      "source": [
        "!pip install matplotlib scikit-learn"
      ]
    },
    {
      "cell_type": "code",
      "source": [
        "import pandas as pd\n",
        "import numpy as np\n",
        "from sklearn.model_selection import train_test_split\n",
        "from sklearn.preprocessing import StandardScaler\n",
        "from sklearn.metrics import mean_squared_error\n",
        "from tensorflow.keras.models import Sequential\n",
        "from tensorflow.keras.layers import Dense\n",
        "from tensorflow.keras.optimizers import Adam\n",
        "import matplotlib.pyplot as plt\n",
        "from sklearn.metrics import confusion_matrix, roc_curve, auc\n"
      ],
      "metadata": {
        "id": "Jkl4CHJr8W9n"
      },
      "execution_count": null,
      "outputs": []
    },
    {
      "cell_type": "code",
      "source": [
        "# Load the dataset\n",
        "df = pd.read_csv('/content/forestfires.csv')"
      ],
      "metadata": {
        "id": "A5LuFbA68XAT"
      },
      "execution_count": null,
      "outputs": []
    },
    {
      "cell_type": "code",
      "source": [
        "# Display the first few rows of the dataset\n",
        "print(df.head())"
      ],
      "metadata": {
        "colab": {
          "base_uri": "https://localhost:8080/"
        },
        "id": "JL_9NFkK8XC7",
        "outputId": "cd5e5e88-bb32-487f-c3ad-80f31087ee70"
      },
      "execution_count": null,
      "outputs": [
        {
          "output_type": "stream",
          "name": "stdout",
          "text": [
            "  month  day  FFMC   DMC     DC  ISI  temp  RH  wind  rain  ...  monthfeb  \\\n",
            "0   mar  fri  86.2  26.2   94.3  5.1   8.2  51   6.7   0.0  ...         0   \n",
            "1   oct  tue  90.6  35.4  669.1  6.7  18.0  33   0.9   0.0  ...         0   \n",
            "2   oct  sat  90.6  43.7  686.9  6.7  14.6  33   1.3   0.0  ...         0   \n",
            "3   mar  fri  91.7  33.3   77.5  9.0   8.3  97   4.0   0.2  ...         0   \n",
            "4   mar  sun  89.3  51.3  102.2  9.6  11.4  99   1.8   0.0  ...         0   \n",
            "\n",
            "   monthjan  monthjul  monthjun  monthmar  monthmay  monthnov  monthoct  \\\n",
            "0         0         0         0         1         0         0         0   \n",
            "1         0         0         0         0         0         0         1   \n",
            "2         0         0         0         0         0         0         1   \n",
            "3         0         0         0         1         0         0         0   \n",
            "4         0         0         0         1         0         0         0   \n",
            "\n",
            "   monthsep  size_category  \n",
            "0         0          small  \n",
            "1         0          small  \n",
            "2         0          small  \n",
            "3         0          small  \n",
            "4         0          small  \n",
            "\n",
            "[5 rows x 31 columns]\n"
          ]
        }
      ]
    },
    {
      "cell_type": "code",
      "source": [
        "# Extract features and target variable\n",
        "X = df.drop(['size_category'], axis=1)  # Features\n",
        "y = df['size_category']  # Target variable"
      ],
      "metadata": {
        "id": "wSLcNQBX-SXl"
      },
      "execution_count": null,
      "outputs": []
    },
    {
      "cell_type": "code",
      "source": [
        "# Convert categorical variables to dummy/indicator variables\n",
        "X = pd.get_dummies(X, columns=['month', 'day'], drop_first=True)"
      ],
      "metadata": {
        "id": "7KvcSCT9-SZ2"
      },
      "execution_count": null,
      "outputs": []
    },
    {
      "cell_type": "code",
      "source": [
        "# Convert target variable to numerical values (if needed)\n",
        "y = y.map({'small': 0, 'large': 1})"
      ],
      "metadata": {
        "id": "NCFo7YHg-ScC"
      },
      "execution_count": null,
      "outputs": []
    },
    {
      "cell_type": "code",
      "source": [
        "# Split the data into training and testing sets\n",
        "X_train, X_test, y_train, y_test = train_test_split(X, y, test_size=0.2, random_state=42)"
      ],
      "metadata": {
        "id": "XDrGGCdN-Sfh"
      },
      "execution_count": null,
      "outputs": []
    },
    {
      "cell_type": "code",
      "source": [
        "# Standardize features\n",
        "scaler = StandardScaler()\n",
        "X_train = scaler.fit_transform(X_train)\n",
        "X_test = scaler.transform(X_test)"
      ],
      "metadata": {
        "id": "pMseIIHx8XGB"
      },
      "execution_count": null,
      "outputs": []
    },
    {
      "cell_type": "code",
      "source": [
        "# Build the neural network model\n",
        "model = Sequential()\n",
        "model.add(Dense(64, input_dim=X_train.shape[1], activation='relu'))\n",
        "model.add(Dense(32, activation='relu'))\n",
        "model.add(Dense(1, activation='sigmoid'))  # Use 'sigmoid' activation for binary classification"
      ],
      "metadata": {
        "id": "FnYyz_xX-7c2"
      },
      "execution_count": null,
      "outputs": []
    },
    {
      "cell_type": "code",
      "source": [
        "# Compile the model\n",
        "optimizer = Adam(learning_rate=0.001)\n",
        "model.compile(optimizer=optimizer, loss='binary_crossentropy', metrics=['accuracy'])"
      ],
      "metadata": {
        "id": "wqsI05RO-7ff"
      },
      "execution_count": null,
      "outputs": []
    },
    {
      "cell_type": "code",
      "source": [
        "# Train the model\n",
        "model.fit(X_train, y_train, epochs=50, batch_size=32, validation_split=0.2, verbose=2)"
      ],
      "metadata": {
        "colab": {
          "base_uri": "https://localhost:8080/"
        },
        "id": "ewZy5Z2l-7hh",
        "outputId": "5c4f341f-4ac8-471f-d2f3-f88bbd0242f2"
      },
      "execution_count": null,
      "outputs": [
        {
          "output_type": "stream",
          "name": "stdout",
          "text": [
            "Epoch 1/50\n",
            "11/11 - 1s - loss: 0.6612 - accuracy: 0.7121 - val_loss: 0.5653 - val_accuracy: 0.7590 - 1s/epoch - 117ms/step\n",
            "Epoch 2/50\n",
            "11/11 - 0s - loss: 0.6124 - accuracy: 0.7212 - val_loss: 0.5504 - val_accuracy: 0.7831 - 48ms/epoch - 4ms/step\n",
            "Epoch 3/50\n",
            "11/11 - 0s - loss: 0.5862 - accuracy: 0.7273 - val_loss: 0.5371 - val_accuracy: 0.7952 - 63ms/epoch - 6ms/step\n",
            "Epoch 4/50\n",
            "11/11 - 0s - loss: 0.5641 - accuracy: 0.7394 - val_loss: 0.5307 - val_accuracy: 0.7952 - 66ms/epoch - 6ms/step\n",
            "Epoch 5/50\n",
            "11/11 - 0s - loss: 0.5438 - accuracy: 0.7485 - val_loss: 0.5249 - val_accuracy: 0.7952 - 50ms/epoch - 5ms/step\n",
            "Epoch 6/50\n",
            "11/11 - 0s - loss: 0.5234 - accuracy: 0.7515 - val_loss: 0.5210 - val_accuracy: 0.8072 - 65ms/epoch - 6ms/step\n",
            "Epoch 7/50\n",
            "11/11 - 0s - loss: 0.5062 - accuracy: 0.7576 - val_loss: 0.5189 - val_accuracy: 0.8193 - 68ms/epoch - 6ms/step\n",
            "Epoch 8/50\n",
            "11/11 - 0s - loss: 0.4897 - accuracy: 0.7636 - val_loss: 0.5162 - val_accuracy: 0.8193 - 48ms/epoch - 4ms/step\n",
            "Epoch 9/50\n",
            "11/11 - 0s - loss: 0.4744 - accuracy: 0.7758 - val_loss: 0.5121 - val_accuracy: 0.8193 - 68ms/epoch - 6ms/step\n",
            "Epoch 10/50\n",
            "11/11 - 0s - loss: 0.4579 - accuracy: 0.7758 - val_loss: 0.5021 - val_accuracy: 0.8193 - 66ms/epoch - 6ms/step\n",
            "Epoch 11/50\n",
            "11/11 - 0s - loss: 0.4458 - accuracy: 0.7818 - val_loss: 0.5012 - val_accuracy: 0.8193 - 55ms/epoch - 5ms/step\n",
            "Epoch 12/50\n",
            "11/11 - 0s - loss: 0.4312 - accuracy: 0.7879 - val_loss: 0.4975 - val_accuracy: 0.8193 - 61ms/epoch - 6ms/step\n",
            "Epoch 13/50\n",
            "11/11 - 0s - loss: 0.4173 - accuracy: 0.7970 - val_loss: 0.4962 - val_accuracy: 0.8193 - 77ms/epoch - 7ms/step\n",
            "Epoch 14/50\n",
            "11/11 - 0s - loss: 0.4057 - accuracy: 0.8061 - val_loss: 0.4905 - val_accuracy: 0.8193 - 66ms/epoch - 6ms/step\n",
            "Epoch 15/50\n",
            "11/11 - 0s - loss: 0.3947 - accuracy: 0.8091 - val_loss: 0.4883 - val_accuracy: 0.8313 - 78ms/epoch - 7ms/step\n",
            "Epoch 16/50\n",
            "11/11 - 0s - loss: 0.3806 - accuracy: 0.8182 - val_loss: 0.4836 - val_accuracy: 0.8313 - 61ms/epoch - 6ms/step\n",
            "Epoch 17/50\n",
            "11/11 - 0s - loss: 0.3654 - accuracy: 0.8303 - val_loss: 0.4818 - val_accuracy: 0.8313 - 59ms/epoch - 5ms/step\n",
            "Epoch 18/50\n",
            "11/11 - 0s - loss: 0.3532 - accuracy: 0.8424 - val_loss: 0.4755 - val_accuracy: 0.8072 - 64ms/epoch - 6ms/step\n",
            "Epoch 19/50\n",
            "11/11 - 0s - loss: 0.3387 - accuracy: 0.8455 - val_loss: 0.4669 - val_accuracy: 0.8072 - 61ms/epoch - 6ms/step\n",
            "Epoch 20/50\n",
            "11/11 - 0s - loss: 0.3298 - accuracy: 0.8606 - val_loss: 0.4734 - val_accuracy: 0.8072 - 70ms/epoch - 6ms/step\n",
            "Epoch 21/50\n",
            "11/11 - 0s - loss: 0.3151 - accuracy: 0.8636 - val_loss: 0.4627 - val_accuracy: 0.8193 - 82ms/epoch - 7ms/step\n",
            "Epoch 22/50\n",
            "11/11 - 0s - loss: 0.3009 - accuracy: 0.8727 - val_loss: 0.4611 - val_accuracy: 0.8313 - 79ms/epoch - 7ms/step\n",
            "Epoch 23/50\n",
            "11/11 - 0s - loss: 0.2894 - accuracy: 0.8879 - val_loss: 0.4626 - val_accuracy: 0.8313 - 73ms/epoch - 7ms/step\n",
            "Epoch 24/50\n",
            "11/11 - 0s - loss: 0.2766 - accuracy: 0.8909 - val_loss: 0.4563 - val_accuracy: 0.8313 - 73ms/epoch - 7ms/step\n",
            "Epoch 25/50\n",
            "11/11 - 0s - loss: 0.2649 - accuracy: 0.9030 - val_loss: 0.4559 - val_accuracy: 0.8313 - 78ms/epoch - 7ms/step\n",
            "Epoch 26/50\n",
            "11/11 - 0s - loss: 0.2562 - accuracy: 0.9091 - val_loss: 0.4542 - val_accuracy: 0.8434 - 73ms/epoch - 7ms/step\n",
            "Epoch 27/50\n",
            "11/11 - 0s - loss: 0.2427 - accuracy: 0.9121 - val_loss: 0.4447 - val_accuracy: 0.8313 - 65ms/epoch - 6ms/step\n",
            "Epoch 28/50\n",
            "11/11 - 0s - loss: 0.2308 - accuracy: 0.9121 - val_loss: 0.4444 - val_accuracy: 0.8434 - 66ms/epoch - 6ms/step\n",
            "Epoch 29/50\n",
            "11/11 - 0s - loss: 0.2205 - accuracy: 0.9242 - val_loss: 0.4420 - val_accuracy: 0.8313 - 50ms/epoch - 5ms/step\n",
            "Epoch 30/50\n",
            "11/11 - 0s - loss: 0.2105 - accuracy: 0.9273 - val_loss: 0.4377 - val_accuracy: 0.8554 - 51ms/epoch - 5ms/step\n",
            "Epoch 31/50\n",
            "11/11 - 0s - loss: 0.1984 - accuracy: 0.9273 - val_loss: 0.4434 - val_accuracy: 0.8313 - 65ms/epoch - 6ms/step\n",
            "Epoch 32/50\n",
            "11/11 - 0s - loss: 0.1894 - accuracy: 0.9333 - val_loss: 0.4482 - val_accuracy: 0.8434 - 51ms/epoch - 5ms/step\n",
            "Epoch 33/50\n",
            "11/11 - 0s - loss: 0.1817 - accuracy: 0.9242 - val_loss: 0.4513 - val_accuracy: 0.8434 - 69ms/epoch - 6ms/step\n",
            "Epoch 34/50\n",
            "11/11 - 0s - loss: 0.1727 - accuracy: 0.9455 - val_loss: 0.4438 - val_accuracy: 0.8434 - 53ms/epoch - 5ms/step\n",
            "Epoch 35/50\n",
            "11/11 - 0s - loss: 0.1650 - accuracy: 0.9485 - val_loss: 0.4474 - val_accuracy: 0.8434 - 68ms/epoch - 6ms/step\n",
            "Epoch 36/50\n",
            "11/11 - 0s - loss: 0.1569 - accuracy: 0.9394 - val_loss: 0.4461 - val_accuracy: 0.8554 - 66ms/epoch - 6ms/step\n",
            "Epoch 37/50\n",
            "11/11 - 0s - loss: 0.1527 - accuracy: 0.9545 - val_loss: 0.4599 - val_accuracy: 0.8554 - 79ms/epoch - 7ms/step\n",
            "Epoch 38/50\n",
            "11/11 - 0s - loss: 0.1442 - accuracy: 0.9576 - val_loss: 0.4595 - val_accuracy: 0.8675 - 66ms/epoch - 6ms/step\n",
            "Epoch 39/50\n",
            "11/11 - 0s - loss: 0.1374 - accuracy: 0.9606 - val_loss: 0.4553 - val_accuracy: 0.8675 - 67ms/epoch - 6ms/step\n",
            "Epoch 40/50\n",
            "11/11 - 0s - loss: 0.1297 - accuracy: 0.9667 - val_loss: 0.4485 - val_accuracy: 0.8795 - 74ms/epoch - 7ms/step\n",
            "Epoch 41/50\n",
            "11/11 - 0s - loss: 0.1236 - accuracy: 0.9727 - val_loss: 0.4537 - val_accuracy: 0.8795 - 52ms/epoch - 5ms/step\n",
            "Epoch 42/50\n",
            "11/11 - 0s - loss: 0.1197 - accuracy: 0.9606 - val_loss: 0.4601 - val_accuracy: 0.8795 - 72ms/epoch - 7ms/step\n",
            "Epoch 43/50\n",
            "11/11 - 0s - loss: 0.1182 - accuracy: 0.9788 - val_loss: 0.4676 - val_accuracy: 0.8795 - 67ms/epoch - 6ms/step\n",
            "Epoch 44/50\n",
            "11/11 - 0s - loss: 0.1090 - accuracy: 0.9727 - val_loss: 0.4657 - val_accuracy: 0.8795 - 52ms/epoch - 5ms/step\n",
            "Epoch 45/50\n",
            "11/11 - 0s - loss: 0.1050 - accuracy: 0.9758 - val_loss: 0.4664 - val_accuracy: 0.8795 - 58ms/epoch - 5ms/step\n",
            "Epoch 46/50\n",
            "11/11 - 0s - loss: 0.1025 - accuracy: 0.9788 - val_loss: 0.4684 - val_accuracy: 0.8795 - 69ms/epoch - 6ms/step\n",
            "Epoch 47/50\n",
            "11/11 - 0s - loss: 0.0991 - accuracy: 0.9758 - val_loss: 0.4608 - val_accuracy: 0.8795 - 67ms/epoch - 6ms/step\n",
            "Epoch 48/50\n",
            "11/11 - 0s - loss: 0.0917 - accuracy: 0.9879 - val_loss: 0.4564 - val_accuracy: 0.8795 - 53ms/epoch - 5ms/step\n",
            "Epoch 49/50\n",
            "11/11 - 0s - loss: 0.0932 - accuracy: 0.9758 - val_loss: 0.4741 - val_accuracy: 0.8795 - 57ms/epoch - 5ms/step\n",
            "Epoch 50/50\n",
            "11/11 - 0s - loss: 0.0837 - accuracy: 0.9909 - val_loss: 0.4618 - val_accuracy: 0.8795 - 67ms/epoch - 6ms/step\n"
          ]
        },
        {
          "output_type": "execute_result",
          "data": {
            "text/plain": [
              "<keras.src.callbacks.History at 0x79558ade7fd0>"
            ]
          },
          "metadata": {},
          "execution_count": 15
        }
      ]
    },
    {
      "cell_type": "code",
      "source": [
        "# Make predictions on the test set\n",
        "y_pred = model.predict(X_test)"
      ],
      "metadata": {
        "colab": {
          "base_uri": "https://localhost:8080/"
        },
        "id": "2bCz48Og-7jd",
        "outputId": "8a3b2fc8-838c-4559-a44b-d578df9748e4"
      },
      "execution_count": null,
      "outputs": [
        {
          "output_type": "stream",
          "name": "stdout",
          "text": [
            "4/4 [==============================] - 0s 4ms/step\n"
          ]
        }
      ]
    },
    {
      "cell_type": "code",
      "source": [
        "# Convert probabilities to binary predictions\n",
        "y_pred_binary = (y_pred > 0.5).astype(int)"
      ],
      "metadata": {
        "id": "iF5rIv0n-7lq"
      },
      "execution_count": null,
      "outputs": []
    },
    {
      "cell_type": "code",
      "source": [
        "# Evaluate the model\n",
        "accuracy = model.evaluate(X_test, y_test)[1]\n",
        "print(f'Accuracy on Test Set: {accuracy}')"
      ],
      "metadata": {
        "colab": {
          "base_uri": "https://localhost:8080/"
        },
        "id": "JN3qTNCV-7pE",
        "outputId": "581f764d-55b2-424f-b2c1-eedb6e80e595"
      },
      "execution_count": null,
      "outputs": [
        {
          "output_type": "stream",
          "name": "stdout",
          "text": [
            "4/4 [==============================] - 0s 5ms/step - loss: 0.4859 - accuracy: 0.8750\n",
            "Accuracy on Test Set: 0.875\n"
          ]
        }
      ]
    },
    {
      "cell_type": "code",
      "source": [
        "# Confusion Matrix\n",
        "cm = confusion_matrix(y_test, y_pred_binary)\n",
        "print(\"Confusion Matrix:\")\n",
        "print(cm)"
      ],
      "metadata": {
        "colab": {
          "base_uri": "https://localhost:8080/"
        },
        "id": "pkgDbPIU_mSd",
        "outputId": "94b3e582-7f9f-459d-feec-ccf55cb4712c"
      },
      "execution_count": null,
      "outputs": [
        {
          "output_type": "stream",
          "name": "stdout",
          "text": [
            "Confusion Matrix:\n",
            "[[73  3]\n",
            " [10 18]]\n"
          ]
        }
      ]
    },
    {
      "cell_type": "code",
      "source": [
        "# ROC Curve\n",
        "fpr, tpr, thresholds = roc_curve(y_test, y_pred)\n",
        "roc_auc = auc(fpr, tpr)"
      ],
      "metadata": {
        "id": "MwBORc-w_mXh"
      },
      "execution_count": null,
      "outputs": []
    },
    {
      "cell_type": "code",
      "source": [
        "# Plot ROC Curve\n",
        "plt.figure(figsize=(8, 8))\n",
        "plt.plot(fpr, tpr, color='darkorange', lw=2, label='ROC curve (area = {:.2f})'.format(roc_auc))\n",
        "plt.plot([0, 1], [0, 1], color='navy', lw=2, linestyle='--')\n",
        "plt.xlabel('False Positive Rate')\n",
        "plt.ylabel('True Positive Rate')\n",
        "plt.title('Receiver Operating Characteristic (ROC) Curve')\n",
        "plt.legend(loc='lower right')\n",
        "plt.show()"
      ],
      "metadata": {
        "colab": {
          "base_uri": "https://localhost:8080/",
          "height": 718
        },
        "id": "4HEk-oe__ma_",
        "outputId": "3d11520a-04c5-4a6e-f37e-96b8046955c9"
      },
      "execution_count": null,
      "outputs": [
        {
          "output_type": "display_data",
          "data": {
            "text/plain": [
              "<Figure size 800x800 with 1 Axes>"
            ],
            "image/png": "[encoded data removed]"
          },
          "metadata": {}
        }
      ]
    },
    {
      "cell_type": "code",
      "source": [
        "# Predicted Probabilities vs Actual Outcomes\n",
        "plt.figure(figsize=(8, 6))\n",
        "plt.scatter(y_pred, y_test, alpha=0.3)\n",
        "plt.title('Predicted Probabilities vs Actual Outcomes')\n",
        "plt.xlabel('Predicted Probabilities')\n",
        "plt.ylabel('Actual Outcomes')\n",
        "plt.show()"
      ],
      "metadata": {
        "colab": {
          "base_uri": "https://localhost:8080/",
          "height": 564
        },
        "id": "Wvhv1jhe8XIb",
        "outputId": "12656d00-7199-4b97-ebde-835093adf9ad"
      },
      "execution_count": null,
      "outputs": [
        {
          "output_type": "display_data",
          "data": {
            "text/plain": [
              "<Figure size 800x600 with 1 Axes>"
            ],
            "image/png": "[encoded data removed]"
          },
          "metadata": {}
        }
      ]
    },
    {
      "cell_type": "code",
      "source": [],
      "metadata": {
        "id": "zsWSWgae8XL4"
      },
      "execution_count": null,
      "outputs": []
    }
  ]
}